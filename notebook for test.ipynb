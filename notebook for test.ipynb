{
    "cells": [
        {
            "cell_type": "markdown",
            "metadata": {
                "collapsed": true
            },
            "source": "My Jupyter Notebook on IBM Watson Studio"
        },
        {
            "cell_type": "markdown",
            "metadata": {},
            "source": "Ghassan Mhanna\nProject Engineer"
        },
        {
            "cell_type": "markdown",
            "metadata": {},
            "source": "I am interested in data science because it is a new domain implemented worldwide. Data science will help to provide and develop the new technology in order to meet the updated market and the latest client requirements."
        },
        {
            "cell_type": "markdown",
            "metadata": {},
            "source": "Since it is a test, my code will be very simple and will cover some addition queries"
        },
        {
            "cell_type": "code",
            "execution_count": 1,
            "metadata": {},
            "outputs": [
                {
                    "data": {
                        "text/plain": "2"
                    },
                    "execution_count": 1,
                    "metadata": {},
                    "output_type": "execute_result"
                }
            ],
            "source": "1+1"
        },
        {
            "cell_type": "code",
            "execution_count": 5,
            "metadata": {},
            "outputs": [
                {
                    "data": {
                        "text/plain": "16"
                    },
                    "execution_count": 5,
                    "metadata": {},
                    "output_type": "execute_result"
                }
            ],
            "source": "1+1+2+3+4+5"
        },
        {
            "cell_type": "markdown",
            "metadata": {},
            "source": "    use this link to access google: www.google.com; \n    \n    Always take care while crossing traffic lights\n    \n    |type|date|status|\n    -------------------\n    |TP|21-05-2021|Complete|"
        }
    ],
    "metadata": {
        "kernelspec": {
            "display_name": "Python 3.7",
            "language": "python",
            "name": "python3"
        },
        "language_info": {
            "codemirror_mode": {
                "name": "ipython",
                "version": 3
            },
            "file_extension": ".py",
            "mimetype": "text/x-python",
            "name": "python",
            "nbconvert_exporter": "python",
            "pygments_lexer": "ipython3",
            "version": "3.7.10"
        }
    },
    "nbformat": 4,
    "nbformat_minor": 1
}